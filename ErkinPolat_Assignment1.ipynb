{
  "nbformat": 4,
  "nbformat_minor": 0,
  "metadata": {
    "kernelspec": {
      "name": "python3",
      "display_name": "Python 3"
    },
    "language_info": {
      "codemirror_mode": {
        "name": "ipython",
        "version": 3
      },
      "file_extension": ".py",
      "mimetype": "text/x-python",
      "name": "python",
      "nbconvert_exporter": "python",
      "pygments_lexer": "ipython3",
      "version": "3.7.2"
    },
    "colab": {
      "name": "ErkinPolat_Assignment1.ipynb",
      "provenance": []
    }
  },
  "cells": [
    {
      "cell_type": "markdown",
      "metadata": {
        "id": "h8wz2tyfztzA",
        "colab_type": "text"
      },
      "source": [
        "<h1>CS152 Assignment 1: The 8-puzzle</h1>\n",
        "\n",
        "Before you turn in this assignment, make sure everything runs as expected. First, **restart the kernel** (in the menubar, select Kernel$\\rightarrow$Restart) and then run the test cells for each of the questions you have answered.  Note that a grade of 3 for the A* implementation requires all tests in the \"Basic Functionality\" section to be passed.  The test cells pass if they execute with no errors (i.e. all the assertions are passed).\n",
        "\n",
        "Make sure you fill in any place that says `YOUR CODE HERE`.  Be sure to remove the `raise NotImplementedError()` statements as you implement your code - these are simply there as a reminder if you forget to add code where it's needed."
      ]
    },
    {
      "cell_type": "markdown",
      "metadata": {
        "id": "f3Zk6StVztzB",
        "colab_type": "text"
      },
      "source": [
        "---"
      ]
    },
    {
      "cell_type": "markdown",
      "metadata": {
        "deletable": false,
        "editable": false,
        "nbgrader": {
          "cell_type": "markdown",
          "checksum": "3582513581b2e5d1806ee2b1117ac019",
          "grade": false,
          "grade_id": "5bb4ce",
          "locked": true,
          "schema_version": 3,
          "solution": false
        },
        "id": "45jzetu2ztzC",
        "colab_type": "text"
      },
      "source": [
        "<h1>\n",
        "Question 1    \n",
        "</h1>\n",
        "Define your <code>PuzzleNode</code> class below.  Ensure that you include all attributes that you need to implement an A* search.  If you wish, you can even include member functions, such as a function to generate successor states.  Alternatively, you can code up this functionality later in the <code>solvePuzzle</code> function."
      ]
    },
    {
      "cell_type": "code",
      "metadata": {
        "id": "RRa3emDh0UAW",
        "colab_type": "code",
        "colab": {}
      },
      "source": [
        "import numpy as np\n",
        "from copy import copy\n",
        "import heapq"
      ],
      "execution_count": 0,
      "outputs": []
    },
    {
      "cell_type": "code",
      "metadata": {
        "deletable": false,
        "nbgrader": {
          "cell_type": "code",
          "checksum": "4326143183f9b58edcedbc64aed31100",
          "grade": false,
          "grade_id": "b5da05",
          "locked": false,
          "schema_version": 3,
          "solution": true,
          "task": false
        },
        "id": "fsBxhYJ8ztzD",
        "colab_type": "code",
        "colab": {}
      },
      "source": [
        "# Import any packages you need here\n",
        "\n",
        "\n",
        "# Also define any variables as needed\n",
        "\n",
        "# YOUR CODE HERE (OPTIONAL)\n",
        "\n",
        "#Now, define the class PuzzleNode:\n",
        "class PuzzleNode:\n",
        "    \"\"\"\n",
        "    Class PuzzleNode: Provides a structure for performing A* search for the n^2-1 puzzle\n",
        "    \"\"\"\n",
        "    def __init__(self, state, heuristic = None, parent = None, moves=0):\n",
        "      #Storing the state as a list\n",
        "      self.state = state\n",
        "      \n",
        "      #I use the numpy library so I store one numpy version of the state\n",
        "      self.numpystate = np.array(state)\n",
        "      \n",
        "      #Storing the dimension\n",
        "      self.n = len(state)\n",
        "\n",
        "      #Storing the parent node\n",
        "      self.parent = parent\n",
        "      \n",
        "      #Number of steps so far to reach the node\n",
        "      self.moves = moves\n",
        "      \n",
        "      #Which heuristic function is being used\n",
        "      self.heuristic_function = heuristic\n",
        "      \n",
        "      #The output of the heuristic function\n",
        "      self.heuristic_value = self.heuristic_function(self.state)\n",
        "      \n",
        "      #Summing the heuristic value with the steps so far for f()\n",
        "      self.f_value = self.moves + self.heuristic_value\n",
        "\n",
        "      #Id to compare visited nodes. Since each configuration is unique I flatten the array and store it as a string\n",
        "      self.puzzle_id = \"\".join(map(str, self.numpystate.flatten()))\n",
        "      \n",
        "      #Index of zero in the flattened version. Used to find the possible moves\n",
        "      self.zero_index = int(np.where(self.numpystate.flatten() == 0)[0][0])\n",
        "\n",
        "    \n",
        "    #string representation. Looping and creating a string of N*N dimensions\n",
        "    def __str__(self):\n",
        "      rows = []\n",
        "      for i in range(self.n):\n",
        "        row = ''\n",
        "        for j in range(self.n):\n",
        "          row = row + (str(self.state[i][j])) + ' '\n",
        "        rows.append(row)\n",
        "      return '\\n'.join(rows)\n",
        "\n",
        "    #Eq function to \n",
        "    #def __eq__(self, node):\n",
        "      #return self.puzzle_id == node.puzzle_id\n",
        "\n",
        "    #Used to make comparisons based on the f() value, so they can be pushed into the priority queue\n",
        "    def __lt__(self, other):\n",
        "      return self.f_value < other.f_value\n",
        "\n",
        "    #Function to return the parent node\n",
        "    def get_parent(self):\n",
        "      return self.parent\n",
        "\n",
        "    #Function that chacks id the state is a valid instance of the puzzle\n",
        "    def check_if_valid(self):\n",
        "      #Since in the given representation, we need each numer from 0 to n in n by n nested lists\n",
        "      #we check if the flattened list when sorted is equal to the range between 0 to n\n",
        "      if np.all((sorted(self.numpystate.flatten()) == np.arange(self.n ** 2)) == 1):\n",
        "        return True\n",
        "      else:\n",
        "        return False\n",
        "    \n",
        "    #The function to compute the potential successor states\n",
        "    #There are 4 moves that a 0 cell can do. Based on what edge it's on it cannot do some of the moves\n",
        "    #For example if it is on the right edge it cannot move to right. Down below I have a clause for each case\n",
        "    #If the 0 index passes it a move is granted to it. For each case I found a representation to indicate\n",
        "    #the position of the 0 by using mod and floor divisions\n",
        "\n",
        "    def get_successors(self):\n",
        "      \n",
        "      #0 not on the right edge\n",
        "      if self.zero_index % self.n != -1 % self.n:\n",
        "        #A new state is created\n",
        "        new_state = copy(self.numpystate.flatten())\n",
        "\n",
        "        #Zero and the element right to it are swapped\n",
        "        new_state[self.zero_index], new_state[self.zero_index+1] = new_state[self.zero_index+1], new_state[self.zero_index]\n",
        "        \n",
        "        #Turned into a regular list\n",
        "        new_state = new_state.reshape(self.n, self.n).tolist()\n",
        "        \n",
        "        #New node is instansiated\n",
        "        yield PuzzleNode(state = new_state, parent = self, moves=self.moves+1, heuristic=self.heuristic_function) \n",
        "\n",
        "      #0 not on the left edge, we move 0 to left, everything else same as above\n",
        "      if self.zero_index % self.n != 0:\n",
        "        new_state = copy(self.numpystate.flatten())\n",
        "        new_state[self.zero_index], new_state[self.zero_index-1] = new_state[self.zero_index-1], new_state[self.zero_index]\n",
        "        new_state = new_state.reshape(self.n, self.n).tolist()\n",
        "        yield PuzzleNode(state = new_state, parent = self, moves=self.moves+1, heuristic=self.heuristic_function)\n",
        "\n",
        "      #0 not on the top edge, we move 0 upwards, everything else same as above\n",
        "      if self.zero_index//self.n != 0:\n",
        "        new_state = copy(self.numpystate.flatten())\n",
        "        new_state[self.zero_index], new_state[self.zero_index-self.n] = new_state[self.zero_index-self.n], new_state[self.zero_index]\n",
        "        new_state = new_state.reshape(self.n, self.n).tolist()\n",
        "        yield PuzzleNode(state = new_state, parent = self, moves=self.moves+1, heuristic=self.heuristic_function)\n",
        "\n",
        "      #0 not on the bottom edge, we move 0 downwards, everything else same as above\n",
        "      if self.zero_index//self.n != self.n-1:\n",
        "        new_state = copy(self.numpystate.flatten())\n",
        "        new_state[self.zero_index], new_state[self.zero_index+self.n] = new_state[self.zero_index+self.n], new_state[self.zero_index]\n",
        "        new_state = new_state.reshape(self.n, self.n).tolist()\n",
        "        yield PuzzleNode(state = new_state, parent = self, moves=self.moves+1, heuristic=self.heuristic_function)"
      ],
      "execution_count": 0,
      "outputs": []
    },
    {
      "cell_type": "markdown",
      "metadata": {
        "deletable": false,
        "editable": false,
        "nbgrader": {
          "cell_type": "markdown",
          "checksum": "f523db3048f85be39ef3dc740b53fdba",
          "grade": false,
          "grade_id": "859d2c",
          "locked": true,
          "schema_version": 3,
          "solution": false
        },
        "id": "yhdImCr0ztzG",
        "colab_type": "text"
      },
      "source": [
        "<h1>\n",
        "Question 2    \n",
        "</h1>\n",
        "Define your heuristic functions using the templates below.  Ensure that you extend the <code>heuristics</code> list to include all the heuristic functions you implement.  Note that state will be given as a list of lists, so ensure your function accepts this format.  You may use packages like numpy if you wish within the functions themselves."
      ]
    },
    {
      "cell_type": "code",
      "metadata": {
        "deletable": false,
        "nbgrader": {
          "cell_type": "code",
          "checksum": "686c6cabd6955171ad70aa6fd37d31a9",
          "grade": false,
          "grade_id": "3fb850",
          "locked": false,
          "schema_version": 3,
          "solution": true,
          "task": false
        },
        "id": "rQEx95fqztzH",
        "colab_type": "code",
        "colab": {}
      },
      "source": [
        "# Add any additional code here (e.g. for the memoization extension)\n",
        "# YOUR CODE HERE (OPTIONAL)\n",
        "\n",
        "#Creating a frontier class. A heap data structure is used for the priority queue\n",
        "class Frontier:\n",
        "  \n",
        "  #Initializing \n",
        "  def __init__(self):\n",
        "    #Includes a list for the queue\n",
        "    self.queue = []\n",
        "    \n",
        "    #Max size is recorded\n",
        "    self.max_size = 0\n",
        "  \n",
        "  #Function that add nodes.\n",
        "  def add_node(self, node):\n",
        "    #Heappush the node into the list. They are compared based on the f() value as specified inside the NodePuzzle class\n",
        "    heapq.heappush(self.queue, node)\n",
        "\n",
        "    #If a new maximum size is reached it is updated\n",
        "    if self.length() > self.max_size:\n",
        "      self.max_size = self.length()\n",
        "\n",
        "  #Popping from the queue\n",
        "  def pop(self):\n",
        "    #Uses heappop\n",
        "    return heapq.heappop(self.queue)\n",
        "\n",
        "  #Function to return the length\n",
        "  def length(self):\n",
        "    return len(self.queue)\n",
        "\n",
        "\n",
        "# Misplaced tiles heuristic\n",
        "def h1(state):\n",
        "    \"\"\"\n",
        "    This function returns the number of misplaced tiles, given the board state\n",
        "    Input:\n",
        "        -state: the board state as a list of lists\n",
        "    Output:\n",
        "        -h: the number of misplaced tiles\n",
        "    \"\"\"\n",
        "    #np.arange(len(state)**2).reshape(len(state), len(state)) gives a solved puzzle instance in the given size\n",
        "    #We subtract the state from it. A subtraction yields 0 for the matching elements\n",
        "    #We subtract it from the total number of cells and then subtract 1 from it\n",
        "\n",
        "    return len(state)**2 - np.sum((np.arange(len(state)**2).reshape(len(state), len(state)) - np.array(state)) == 0) - 1\n",
        "\n",
        "# Manhattan distance heuristic\n",
        "def h2(state):\n",
        "    \"\"\"\n",
        "    This function returns the Manhattan distance from the solved state, given the board state\n",
        "    Input:\n",
        "        -state: the board state as a list of lists\n",
        "    Output:\n",
        "        -h: the Manhattan distance from the solved configuration\n",
        "    \"\"\"\n",
        "    #initial manhattan distinace\n",
        "    h=0\n",
        "    #looping for all cells\n",
        "    for i in range(len(state)):\n",
        "      for j in range(len(state)):\n",
        "        #Not taking 0 into account\n",
        "        if state[i][j] != 0:\n",
        "          #Summing the amount the x and y coordinates of a cell should move\n",
        "          h += abs(i - state[i][j]//len(state)) + abs(j - state[i][j]%len(state))\n",
        "\n",
        "    return h      \n",
        "    \n",
        "# Extra heuristic for the extension.  If implemented, modify the function below\n",
        "def h3(state):\n",
        "    \"\"\"\n",
        "    This function returns a heuristic that dominates the Manhattan distance, given the board state\n",
        "    Input:\n",
        "        -state: the board state as a list of lists\n",
        "    Output:\n",
        "        -h: the Heuristic distance of the state from its solved configuration\n",
        "    \"\"\"\n",
        "    return 0\n",
        "\n",
        "# If you implement more than 3 heuristics, then add any extra heuristic functions onto the end of this list.\n",
        "heuristics = [h1, h2, h3]"
      ],
      "execution_count": 0,
      "outputs": []
    },
    {
      "cell_type": "code",
      "metadata": {
        "id": "2ONxBJhqd3dQ",
        "colab_type": "code",
        "colab": {}
      },
      "source": [
        ""
      ],
      "execution_count": 0,
      "outputs": []
    },
    {
      "cell_type": "markdown",
      "metadata": {
        "deletable": false,
        "editable": false,
        "nbgrader": {
          "cell_type": "markdown",
          "checksum": "591174c27300d0a4d4d96ee841e46810",
          "grade": false,
          "grade_id": "e224d9",
          "locked": true,
          "schema_version": 3,
          "solution": false
        },
        "id": "K6DSboygztzK",
        "colab_type": "text"
      },
      "source": [
        "<h1>\n",
        "Question 3    \n",
        "</h1>\n",
        "Code up your A* search using the SolvePuzzle function within the template below.  Please do not modify the function header, otherwise the automated testing will fail.  You may define other functions or import packages as needed in this cell or by adding additional cells."
      ]
    },
    {
      "cell_type": "code",
      "metadata": {
        "deletable": false,
        "nbgrader": {
          "cell_type": "code",
          "checksum": "91dda09c4f5df1db4607bb3b82e81afd",
          "grade": false,
          "grade_id": "328d7b",
          "locked": false,
          "schema_version": 3,
          "solution": true
        },
        "id": "XvC41jvdztzL",
        "colab_type": "code",
        "colab": {}
      },
      "source": [
        "# Import any packages or define any helper functions you need here\n",
        "\n",
        "# YOUR CODE HERE (OPTIONAL)\n",
        "# Main solvePuzzle function.\n",
        "def solvePuzzle(state, heuristic):\n",
        "    \"\"\"This function should solve the n**2-1 puzzle for any n > 2 (although it may take too long for n > 4)).\n",
        "    Inputs:\n",
        "        -state: The initial state of the puzzle as a list of lists\n",
        "        -heuristic: a handle to a heuristic function.  Will be one of those defined in Question 2.\n",
        "    Outputs:\n",
        "        -steps: The number of steps to optimally solve the puzzle (excluding the initial state)\n",
        "        -exp: The number of nodes expanded to reach the solution\n",
        "        -max_frontier: The maximum size of the frontier over the whole search\n",
        "        -opt_path: The optimal path as a list of list of lists.  That is, opt_path[:,:,i] should give a list of lists\n",
        "                    that represents the state of the board at the ith step of the solution.\n",
        "        -err: An error code.  If state is not of the appropriate size and dimension, return -1.  For the extention task,\n",
        "          if the state is not solvable, then return -2\n",
        "    \"\"\"\n",
        "\n",
        "    # YOUR CODE HERE\n",
        "    #First creating a node instance for the initial state\n",
        "    initial_node = PuzzleNode(state, heuristic)\n",
        "    \n",
        "    #Checking for validness first\n",
        "    if not initial_node.check_if_valid():\n",
        "      return 0, 0, 0, None, -1\n",
        "\n",
        "    #Creating a list to store the visited nodes\n",
        "    visited_nodes = []\n",
        "    \n",
        "    #Creating a frontier object\n",
        "    frontier = Frontier()\n",
        "    \n",
        "    #Creating the goal state as puzzle node instance\n",
        "    goal_state = PuzzleNode(np.arange(initial_node.n**2).reshape(initial_node.n, initial_node.n).tolist(), heuristic)\n",
        "\n",
        "    #boolean for the while loop\n",
        "    solved = False\n",
        "\n",
        "    #Checking if we are already at the goal state\n",
        "    if initial_node.puzzle_id == goal_state.puzzle_id:\n",
        "      solved = True\n",
        "    #If we are not the initial state is added to the frontier. This is done for practicality so it will work with the while loop.\n",
        "    else:\n",
        "      frontier.add_node(initial_node)\n",
        "\n",
        "    #Starting the while loop\n",
        "    while solved == False:\n",
        "      \n",
        "      #If we visit all the reachable nodes and cannot find a solution then we return -2\n",
        "      #This theoretically should work. But there are too many nodes to visit before this halts\n",
        "      if frontier.length() == 0:\n",
        "        return current_node.moves, len(visited_nodes), frontier.max_size, None, -2\n",
        "\n",
        "      #Popping from the frontier\n",
        "      current_node = frontier.pop()\n",
        "      \n",
        "      #Appending the current node into the visited nodes\n",
        "      visited_nodes.append(current_node.puzzle_id)\n",
        "\n",
        "      #Checking if the current node is the goal state\n",
        "      if current_node.puzzle_id == goal_state.puzzle_id:\n",
        "        solved = True\n",
        "\n",
        "      #Expanding the tree to find the successors\n",
        "      for node in current_node.get_successors():\n",
        "        #If a node is visited it isn't added to the frontier\n",
        "        if node.puzzle_id not in visited_nodes:\n",
        "          frontier.add_node(node)\n",
        "\n",
        "\n",
        "    #Counting the steps when the while loop executes\n",
        "    steps = current_node.moves\n",
        "\n",
        "    #A list to store the optimal path\n",
        "    optimal_path = []\n",
        "\n",
        "    #Runs and traces the path until we return back to the initial node\n",
        "    while current_node != initial_node:\n",
        "      #Inserting optimal path to the left side\n",
        "      optimal_path.insert(0, current_node.state)\n",
        "      #Current node is replaced with its parent\n",
        "      current_node = current_node.parent\n",
        "\n",
        "    #The initla node is also added to the optimal path\n",
        "    optimal_path.insert(0, initial_node.state)\n",
        "\n",
        "\n",
        "    #Returns the required parameters\n",
        "    return steps, len(visited_nodes), frontier.max_size, optimal_path, _\n",
        "\n",
        "    \n",
        "\n",
        "      \n"
      ],
      "execution_count": 0,
      "outputs": []
    },
    {
      "cell_type": "markdown",
      "metadata": {
        "deletable": false,
        "editable": false,
        "nbgrader": {
          "cell_type": "markdown",
          "checksum": "93712bce8426499023ace13735ea998d",
          "grade": false,
          "grade_id": "cell-3fc6e687e03655a1",
          "locked": true,
          "schema_version": 3,
          "solution": false,
          "task": false
        },
        "id": "j8naAsMQztzN",
        "colab_type": "text"
      },
      "source": [
        "<h1>Extension Questions</h1>\n",
        "\n",
        "The extensions can be implemented by modifying the code from Q2-3 above appropriately.\n",
        "\n",
        "1. <b>Initial state solvability:</b>  Modify your SolvePuzzle function code in Q3 to return -2 if an initial state is not solvable to the goal state.\n",
        "2. <b>Extra heuristic function:</b> Add another heuristic function (e.g. pattern database) that dominates the misplaced tiles and Manhattan distance heuristics to your Q2 code.\n",
        "3. <b>Memoization:</b>  Modify your heuristic function definitions in Q2 by using a Python decorator to speed up heuristic function evaluation\n",
        "\n",
        "There are test cells provided for extension questions 1 and 2."
      ]
    },
    {
      "cell_type": "markdown",
      "metadata": {
        "deletable": false,
        "editable": false,
        "nbgrader": {
          "cell_type": "markdown",
          "checksum": "c89ea5c4d80cc73d321b4d15a043e8b7",
          "grade": false,
          "grade_id": "fb9ccd",
          "locked": true,
          "schema_version": 3,
          "solution": false
        },
        "id": "W19mQtzdztzP",
        "colab_type": "text"
      },
      "source": [
        "<h1>Basic Functionality Tests</h1>\n",
        "The cells below contain tests to verify that your code is working properly to be classified as basically functional.  Please note that a grade of <b>3</b> on #aicoding and #search as applicable for each test requires the test to be successfully passed.  <b>If you want to demonstrate some other aspect of your code, then feel free to add additional cells with test code and document what they do.<b>"
      ]
    },
    {
      "cell_type": "code",
      "metadata": {
        "deletable": false,
        "editable": false,
        "nbgrader": {
          "cell_type": "code",
          "checksum": "f8d927b41dc95f7b76d81ed7f6cd13ec",
          "grade": true,
          "grade_id": "8fbc24",
          "locked": true,
          "points": 1,
          "schema_version": 3,
          "solution": false
        },
        "id": "FFtZ4WrQztzP",
        "colab_type": "code",
        "colab": {}
      },
      "source": [
        "## Test for state not correctly defined\n",
        "\n",
        "incorrect_state = [[0,1,2],[2,3,4],[5,6,7]]\n",
        "_,_,_,_,err = solvePuzzle(incorrect_state, lambda state: 0)\n",
        "assert(err == -1)"
      ],
      "execution_count": 0,
      "outputs": []
    },
    {
      "cell_type": "code",
      "metadata": {
        "deletable": false,
        "editable": false,
        "nbgrader": {
          "cell_type": "code",
          "checksum": "005a7a99916dafeb7180172c66365597",
          "grade": true,
          "grade_id": "cell-5738a2124877e52e",
          "locked": true,
          "points": 2,
          "schema_version": 3,
          "solution": false,
          "task": false
        },
        "id": "hfWew1IvztzS",
        "colab_type": "code",
        "colab": {}
      },
      "source": [
        "## Heuristic function tests for misplaced tiles and manhattan distance\n",
        "\n",
        "# Define the working initial states\n",
        "working_initial_states_8_puzzle = ([[2,3,7],[1,8,0],[6,5,4]], [[7,0,8],[4,6,1],[5,3,2]], [[5,7,6],[2,4,3],[8,1,0]])\n",
        "\n",
        "# Test the values returned by the heuristic functions\n",
        "h_mt_vals = [7,8,7]\n",
        "h_man_vals = [15,17,18]\n",
        "\n",
        "for i in range(0,3):\n",
        "    h_mt = heuristics[0](working_initial_states_8_puzzle[i])\n",
        "    h_man = heuristics[1](working_initial_states_8_puzzle[i])\n",
        "    assert(h_mt == h_mt_vals[i])\n",
        "    assert(h_man == h_man_vals[i])\n"
      ],
      "execution_count": 0,
      "outputs": []
    },
    {
      "cell_type": "markdown",
      "metadata": {
        "id": "jLBBdYVRMvde",
        "colab_type": "text"
      },
      "source": [
        "Hi Professor! The last test cell runs. However, it takes a long time. I am writing you this note so you wouldn't think it is an endless loop. In my computer it takes around 9 minutes to run. I tried to make it more efficient but this was as fast as it got. However, if you run them seperately you will see it solves each of the initial configurations and gives the correct output."
      ]
    },
    {
      "cell_type": "code",
      "metadata": {
        "deletable": false,
        "editable": false,
        "nbgrader": {
          "cell_type": "code",
          "checksum": "293094319e63d67c5f6d94cd7aee0c02",
          "grade": true,
          "grade_id": "cell-99c07d9541559b52",
          "locked": true,
          "points": 4,
          "schema_version": 3,
          "solution": false,
          "task": false
        },
        "id": "u6Crzz1EztzV",
        "colab_type": "code",
        "colab": {}
      },
      "source": [
        "## A* Tests for 3 x 3 boards\n",
        "## This test runs A* with both heuristics and ensures that the same optimal number of steps are found\n",
        "## with each heuristic.\n",
        "\n",
        "# Optimal path to the solution for the first 3 x 3 state\n",
        "opt_path_soln = [[[2, 3, 7], [1, 8, 0], [6, 5, 4]], [[2, 3, 7], [1, 8, 4], [6, 5, 0]], \n",
        "                 [[2, 3, 7], [1, 8, 4], [6, 0, 5]], [[2, 3, 7], [1, 0, 4], [6, 8, 5]], \n",
        "                 [[2, 0, 7], [1, 3, 4], [6, 8, 5]], [[0, 2, 7], [1, 3, 4], [6, 8, 5]], \n",
        "                 [[1, 2, 7], [0, 3, 4], [6, 8, 5]], [[1, 2, 7], [3, 0, 4], [6, 8, 5]], \n",
        "                 [[1, 2, 7], [3, 4, 0], [6, 8, 5]], [[1, 2, 0], [3, 4, 7], [6, 8, 5]], \n",
        "                 [[1, 0, 2], [3, 4, 7], [6, 8, 5]], [[1, 4, 2], [3, 0, 7], [6, 8, 5]], \n",
        "                 [[1, 4, 2], [3, 7, 0], [6, 8, 5]], [[1, 4, 2], [3, 7, 5], [6, 8, 0]], \n",
        "                 [[1, 4, 2], [3, 7, 5], [6, 0, 8]], [[1, 4, 2], [3, 0, 5], [6, 7, 8]], \n",
        "                 [[1, 0, 2], [3, 4, 5], [6, 7, 8]], [[0, 1, 2], [3, 4, 5], [6, 7, 8]]]\n",
        "\n",
        "astar_steps = [17, 25, 28]\n",
        "for i in range(0,3):\n",
        "    steps_mt, expansions_mt, _, opt_path_mt, _ = solvePuzzle(working_initial_states_8_puzzle[i], heuristics[0])\n",
        "    steps_man, expansions_man, _, opt_path_man, _ = solvePuzzle(working_initial_states_8_puzzle[i], heuristics[1])\n",
        "    # Test whether the number of optimal steps is correct and the same\n",
        "    assert(steps_mt == steps_man == astar_steps[i])\n",
        "    # Test whether or not the manhattan distance dominates the misplaced tiles heuristic in every case\n",
        "    assert(expansions_man < expansions_mt)\n",
        "    # For the first state, test that the optimal path is the same\n",
        "    if i == 0:\n",
        "        assert(opt_path_mt == opt_path_soln)\n"
      ],
      "execution_count": 0,
      "outputs": []
    },
    {
      "cell_type": "code",
      "metadata": {
        "deletable": false,
        "editable": false,
        "nbgrader": {
          "cell_type": "code",
          "checksum": "94ad7f950f87fcc281af1f3946c4e196",
          "grade": true,
          "grade_id": "cell-2981ba2cc7745c22",
          "locked": true,
          "points": 8,
          "schema_version": 3,
          "solution": false,
          "task": false
        },
        "id": "vbEkVJhsztzX",
        "colab_type": "code",
        "colab": {}
      },
      "source": [
        "## A* Test for 4 x 4 board\n",
        "## This test runs A* with both heuristics and ensures that the same optimal number of steps are found\n",
        "## with each heuristic.\n",
        "\n",
        "working_initial_state_15_puzzle = [[1,2,6,3],[0,9,5,7],[4,13,10,11],[8,12,14,15]]\n",
        "steps_mt, expansions_mt, _, _, _ = solvePuzzle(working_initial_state_15_puzzle, heuristics[0])\n",
        "steps_man, expansions_man, _, _, _ = solvePuzzle(working_initial_state_15_puzzle, heuristics[1])\n",
        "# Test whether the number of optimal steps is correct and the same\n",
        "assert(steps_mt == steps_man == 9)\n",
        "# Test whether or not the manhattan distance dominates the misplaced tiles heuristic in every case\n",
        "assert(expansions_mt >= expansions_man)"
      ],
      "execution_count": 0,
      "outputs": []
    },
    {
      "cell_type": "markdown",
      "metadata": {
        "deletable": false,
        "editable": false,
        "nbgrader": {
          "cell_type": "markdown",
          "checksum": "7251e4aad7b1e19b42a78e54d8e7b920",
          "grade": false,
          "grade_id": "cell-2c262efb90518641",
          "locked": true,
          "schema_version": 3,
          "solution": false,
          "task": false
        },
        "id": "wRwfLA2vztza",
        "colab_type": "text"
      },
      "source": [
        "<h1>Extension Tests</h1>\n",
        "The cells below can be used to test the extension questions.  Memoization if implemented will be tested on the final submission - you can test it yourself by testing the execution time of the heuristic functions with and without it."
      ]
    },
    {
      "cell_type": "code",
      "metadata": {
        "deletable": false,
        "editable": false,
        "nbgrader": {
          "cell_type": "code",
          "checksum": "efc4b74c95e814a4fb07d2c5ed26f337",
          "grade": true,
          "grade_id": "cell-21cada9978e9a1bb",
          "locked": true,
          "points": 16,
          "schema_version": 3,
          "solution": false,
          "task": false
        },
        "id": "Sg96Mllhztzb",
        "colab_type": "code",
        "colab": {}
      },
      "source": [
        "## Puzzle solvability test\n",
        "\n",
        "unsolvable_initial_state = [[7,5,6],[2,4,3],[8,1,0]]\n",
        "_,_,_,_,err = solvePuzzle(unsolvable_initial_state, lambda state: 0)\n",
        "assert(err == -2)"
      ],
      "execution_count": 0,
      "outputs": []
    },
    {
      "cell_type": "code",
      "metadata": {
        "deletable": false,
        "editable": false,
        "nbgrader": {
          "cell_type": "code",
          "checksum": "9b7ebb02bcf675ab3a5157eaa1155763",
          "grade": true,
          "grade_id": "cell-8c7a414efc152379",
          "locked": true,
          "points": 32,
          "schema_version": 3,
          "solution": false,
          "task": false
        },
        "id": "vi4tJZ53ztzd",
        "colab_type": "code",
        "colab": {}
      },
      "source": [
        "## Extra heuristic function test.  \n",
        "## This tests that for all initial conditions, the new heuristic dominates over the manhattan distance.\n",
        "\n",
        "dom = 0\n",
        "for i in range(0,3):\n",
        "    steps_new, expansions_new, _, _, _ = solvePuzzle(working_initial_states_8_puzzle[i], heuristics[2])\n",
        "    steps_man, expansions_man, _, _, _ = solvePuzzle(working_initial_states_8_puzzle[i], heuristics[1])\n",
        "    # Test whether the number of optimal steps is correct and the same\n",
        "    assert(steps_new == steps_man == astar_steps[i])\n",
        "    # Test whether or not the manhattan distance is dominated by the new heuristic in every case, by checking\n",
        "    # the number of nodes expanded\n",
        "    dom = expansions_man - expansions_new\n",
        "assert(dom > 0)"
      ],
      "execution_count": 0,
      "outputs": []
    },
    {
      "cell_type": "code",
      "metadata": {
        "deletable": false,
        "editable": false,
        "nbgrader": {
          "cell_type": "code",
          "checksum": "af551e00bc8334100b7cf901ece597a2",
          "grade": true,
          "grade_id": "cell-09f710b6aa2e3fa3",
          "locked": true,
          "points": 64,
          "schema_version": 3,
          "solution": false,
          "task": false
        },
        "id": "5xXgWfDRztzg",
        "colab_type": "code",
        "colab": {}
      },
      "source": [
        "## Memoization test - will be carried out after submission"
      ],
      "execution_count": 0,
      "outputs": []
    }
  ]
}