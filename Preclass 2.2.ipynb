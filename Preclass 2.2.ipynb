{
 "cells": [
  {
   "cell_type": "markdown",
   "metadata": {
    "collapsed": false
   },
   "source": [
    "- Each state is represented by an integer\n",
    "\n",
    "- For a state k, the two successor states are 2k and 2k+1 (in this order)\n",
    "\n",
    "- Starting at initial state 1, the goal is to reach state 1024."
   ]
  },
  {
   "cell_type": "code",
   "execution_count": 1,
   "metadata": {
    "collapsed": false
   },
   "outputs": [
    {
     "name": "stdout",
     "output_type": "stream",
     "text": [
      "Breadth-first search terminated after 512 steps\n",
      "\n",
      "Size of frontier at termination is 513\n"
     ]
    }
   ],
   "source": [
    "# [INSERT CODE HERE] Initial state\n",
    "state = 1\n",
    "\n",
    "# [INSERT CODE HERE] Define the goal here\n",
    "goal = 1024\n",
    "\n",
    "# Frontier\n",
    "from collections import deque\n",
    "frontier = deque([state])\n",
    "\n",
    "# Step counter\n",
    "steps = 0\n",
    "\n",
    "\n",
    "# Breadth-first search algorithm (continue while there are nodes in the frontier)\n",
    "while frontier:\n",
    "    # [INSERT CODE HERE] Implement a breadth-first search to reach the goal state from the initial state.\n",
    "    # The search should terminate once the goal is reached.\n",
    "    # Remember to increment the step counter to keep track of how many steps the search takes!\n",
    "    # You will need to modify the placeholder code below.\n",
    "    steps += 1\n",
    "    \n",
    "    a = frontier.popleft()\n",
    "    frontier.append(2*a)\n",
    "    frontier.append(2*a+1)\n",
    "    \n",
    "    if 2*a == goal or 2*a+1 == goal:\n",
    "        break\n",
    "    \n",
    "# [INSERT CODE HERE] Find the length of the frontier by changing the line below.\n",
    "frontier_size = len(frontier)\n",
    "    \n",
    "\n",
    "print(\"Breadth-first search terminated after %d steps\\n\" % steps)\n",
    "print(\"Size of frontier at termination is %d\" % frontier_size)"
   ]
  },
  {
   "cell_type": "code",
   "execution_count": 0,
   "metadata": {
    "collapsed": false
   },
   "outputs": [
   ],
   "source": [
   ]
  }
 ],
 "metadata": {
  "kernelspec": {
   "display_name": "Python 3 (system-wide)",
   "language": "python",
   "metadata": {
    "cocalc": {
     "description": "Python 3 programming language",
     "priority": 100,
     "url": "https://www.python.org/"
    }
   },
   "name": "python3"
  },
  "language_info": {
   "codemirror_mode": {
    "name": "ipython",
    "version": 3
   },
   "file_extension": ".py",
   "mimetype": "text/x-python",
   "name": "python",
   "nbconvert_exporter": "python",
   "pygments_lexer": "ipython3",
   "version": "3.6.9"
  }
 },
 "nbformat": 4,
 "nbformat_minor": 0
}