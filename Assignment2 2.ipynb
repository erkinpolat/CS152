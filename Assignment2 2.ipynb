{
 "cells": [
  {
   "cell_type": "markdown",
   "metadata": {
    "collapsed": false
   },
   "source": [
    "Before you turn in this assignment, make sure everything runs as expected. First, **restart the kernel** (in the menubar, select Kernel$\\rightarrow$Restart) and then run the test cells for each of the questions you have answered.  Note that a grade of 3 for the related LOs requires all tests in the \"Basic Functionality\" section to be passed.  The test cells pass if they execute with no errors (i.e. all the assertions are passed).\n",
    "\n",
    "Make sure you fill in any place that says `YOUR CODE HERE`.  Be sure to remove the `raise NotImplementedError()` statements as you implement your code - these are simply there as a reminder if you forget to add code where it's needed."
   ]
  },
  {
   "cell_type": "markdown",
   "metadata": {
    "collapsed": false
   },
   "source": [
    "---"
   ]
  },
  {
   "cell_type": "markdown",
   "metadata": {
    "collapsed": false,
    "deletable": false,
    "editable": false,
    "nbgrader": {
     "cell_type": "markdown",
     "checksum": "69f9950e2c060ad5c3cc41d2c78fa636",
     "grade": false,
     "grade_id": "cell-36d7173cbd11c12a",
     "locked": true,
     "schema_version": 3,
     "solution": false,
     "task": false
    }
   },
   "source": [
    "<h1>CS152 Assignment 2: The DPLL Algorithm</h1>"
   ]
  },
  {
   "cell_type": "markdown",
   "metadata": {
    "collapsed": false,
    "deletable": false,
    "editable": false,
    "nbgrader": {
     "cell_type": "markdown",
     "checksum": "7947006e03ad4d3e0b5469c4ddf997f0",
     "grade": false,
     "grade_id": "cell-8ec27aa9925ffc86",
     "locked": true,
     "schema_version": 3,
     "solution": false,
     "task": false
    }
   },
   "source": [
    "<h1>Question 1</h1>\n",
    "\n",
    "Define your <code>Literal</code> class below.  Ensure that you define a <code>name</code> and <code>sign</code> attribute as required in the assignment description.  In addition, include any other attributes and member functions as needed. You will need to overload <code>__neg__()</code> to correctly handle negated literals.  You may need to overload <code>__eq__()</code> and <code>__hash__()</code> also."
   ]
  },
  {
   "cell_type": "code",
   "execution_count": 1,
   "metadata": {
    "collapsed": false,
    "deletable": false,
    "nbgrader": {
     "cell_type": "code",
     "checksum": "6f3dcb95b91cd3b0f526b89f339b3fe9",
     "grade": false,
     "grade_id": "cell-575ae3fbbe1ccbf6",
     "locked": false,
     "schema_version": 3,
     "solution": true,
     "task": false
    }
   },
   "outputs": [
   ],
   "source": [
    "# Import any packages you need here\n",
    "# Also define any variables as needed\n",
    "\n",
    "# YOUR CODE HERE (OPTIONAL)\n",
    "\n",
    "#Creating the literal class\n",
    "class Literal:\n",
    "    \n",
    "    #Initializing with a name and a sign that is true by default\n",
    "    def __init__(self, name, sign=True):\n",
    "        \n",
    "        self.name = name\n",
    "        self.sign = sign\n",
    "        \n",
    "    #This method enables us to change the truth value of the sign attribute\n",
    "    #when a minus is put before the literal\n",
    "    def __neg__(self):\n",
    "        return Literal(self.name, not self.sign)\n",
    "    \n",
    "    #Representation of the literals\n",
    "    def __repr__(self):\n",
    "        #If it's negative we print it with a minus before it\n",
    "        if self.sign == False:\n",
    "            return '-' + self.name\n",
    "        #If it is positive we just print the name\n",
    "        else:\n",
    "            return self.name\n",
    "        \n",
    "    #Defining equality between literals\n",
    "    def __eq__(self, other):\n",
    "        return(self.name == other.name)\n",
    "    \n",
    "    #Defining greatness relations. I used this for alphabetically sorting the array\n",
    "    def __gt__(self, other):\n",
    "        return(self.name > other.name)\n",
    "    \n",
    "    #Creating a hash. I had errors for not haaving a hash while writing the code, so I added this.\n",
    "    def __hash__(self):\n",
    "        return(hash(self.name))"
   ]
  },
  {
   "cell_type": "markdown",
   "metadata": {
    "collapsed": false,
    "deletable": false,
    "editable": false,
    "nbgrader": {
     "cell_type": "markdown",
     "checksum": "7e6af6a3602f2712265baf6d3ce930f4",
     "grade": false,
     "grade_id": "cell-5df02e9e3f9998b4",
     "locked": true,
     "schema_version": 3,
     "solution": false,
     "task": false
    }
   },
   "source": [
    "<h1>Question 2</h1>\n",
    "Implement DPLL by filling in the stubs below.  Note that the various heuristics are not required to be implemented for basic functionality, but a template has been provided for you to do so if you attempt the extension questions"
   ]
  },
  {
   "cell_type": "code",
   "execution_count": 2,
   "metadata": {
    "collapsed": false,
    "deletable": false,
    "nbgrader": {
     "cell_type": "code",
     "checksum": "4ddf2e140725e3b8a6048c92bac9580c",
     "grade": false,
     "grade_id": "cell-2846b43cfaf88026",
     "locked": false,
     "schema_version": 3,
     "solution": true,
     "task": false
    }
   },
   "outputs": [
   ],
   "source": [
    "# Define degree, pure symbol and unit clause heuristics here (optional).\n",
    "# Add in your functions under the templates below\n",
    "# YOUR CODE HERE (OPTIONAL)\n",
    "\n",
    "def is_true_model(clause, model):\n",
    "    '''\n",
    "    Takes in a clause and a model.\n",
    "    Outputs whether the clause is true for the given model\n",
    "    '''\n",
    "    #Looping over the literals\n",
    "    for literal in clause:\n",
    "        \n",
    "        #If the literal exists in the model\n",
    "        if literal in model:\n",
    "            \n",
    "            #If the sign and the truth value assigned match it means the truth val is True.\n",
    "            #If there is one True literal the whole clause becomes True.\n",
    "            if literal.sign == model[literal]:\n",
    "                return True\n",
    "    #If no True literals are found, we cannot confirm this\n",
    "    return False\n",
    "\n",
    "\n",
    "def check_all_true(KB, model):\n",
    "    '''\n",
    "    Takes in a KB and a model\n",
    "    Checks if all the clauses are true at a given time.\n",
    "    '''\n",
    "    #We assume it is true\n",
    "    value=True\n",
    "    \n",
    "    #we loop through all clauses\n",
    "    for clause in KB:\n",
    "        \n",
    "        #If we find one clause that cannot be confirmed to be true we return false and break\n",
    "        if not is_true_model(clause, model):\n",
    "            value=False\n",
    "            break\n",
    "    return value\n",
    "\n",
    "\n",
    "def get_symbols(KB):\n",
    "    '''\n",
    "    Function to get a list of symbols from a knowledge base\n",
    "    '''\n",
    "    \n",
    "    #Initializng an empty list\n",
    "    symbols=[]\n",
    "    \n",
    "    #For each clause\n",
    "    for cnf in KB:\n",
    "        \n",
    "        #For each literal\n",
    "        for literal in cnf:\n",
    "            \n",
    "            #We take the literal without a sign\n",
    "            if literal.sign == True:\n",
    "                symbols.append(literal)\n",
    "            else:\n",
    "                symbols.append(-literal)\n",
    "    \n",
    "    #We use set to get every literal ones. We turn them into a list. We sort them alphabetically\n",
    "    return sorted(list(set(symbols)))\n",
    "\n",
    "def DPLL_Satisfiable(KB, heuristic_level=0):\n",
    "    ''' satisfiable, model = DPLLSatisfiable(KB)\n",
    "        Takes in a KB and returns whether the KB is satisfiable, and the model that makes it so\n",
    "        \n",
    "        KB: A knowledge base of clauses (CNF) consisting of a list of sets of literals.  A KB might look like\n",
    "            [{A,B},{-A,C,D}]\n",
    "        heuristic_level: An integer that will be passed in to specify which heuristics to implement \n",
    "            (only for the extension activities).\n",
    "        satisfiable: Returns True if the KB is satisfiable, or False otherwise\n",
    "        Model: A dictionary that assigns a truth value to each literal for the model that satisfies KB.\n",
    "            For example, a model might look like {A: True, B: False}\n",
    "    '''\n",
    "    #Creating a model dictionary\n",
    "    model = {}\n",
    "    \n",
    "    #Runs the DPLL function with symbols extracted\n",
    "    return DPLL(KB, get_symbols(KB), model, [], heuristic_level)\n",
    "\n",
    "\n",
    "def DPLL(KB, symbols, model, chosen_symbols, heuristic_level=0):\n",
    "    '''\n",
    "    KB - knowledge base, symbols - current list of symbols,\n",
    "    model - the current model, chosen_symbols - symbols that are assigned a truth value for the solution,\n",
    "    heuristic_level - which heuristic to use\n",
    "    \n",
    "    returns - Satisfiability truth val, the model, chosen_symbols\n",
    "    '''\n",
    "    \n",
    "    #First making sure that the KB is in its simplest form for the given model\n",
    "    #This eliminates the clauses that are true for the current model\n",
    "    KB = [clause for clause in KB if is_true_model(clause, model) != True]\n",
    "    \n",
    "    #We pass the chosen symbols inside\n",
    "    chosen_symbols = chosen_symbols\n",
    "    \n",
    "    #If there are clauses in the KB, if not it means we solved the problem\n",
    "    if KB:\n",
    "        #The degree heuristic is used if the heuristic_level is 1    \n",
    "        if heuristic_level == 1:\n",
    "            symbols = degree_heuristic(KB, symbols)\n",
    "\n",
    "        #Checks whether all the clauses are true. If so returns true\n",
    "        if check_all_true(KB, model):\n",
    "            return (True, model, chosen_symbols)\n",
    "\n",
    "    #If we dont have any clauses in the KB it also returns true since everything is satisfied\n",
    "    elif not KB:\n",
    "        return (True, model, chosen_symbols)\n",
    "    \n",
    "    #If we have unassigned symbols\n",
    "    if symbols:\n",
    "        \n",
    "        #I copy the symbols and the KB to call in the recursions\n",
    "        new_KB = KB.copy()\n",
    "        new_symbols = symbols.copy()\n",
    "        \n",
    "\n",
    "        #We pop from the list. (If a heuristic is used the list is already ordered accordingly)\n",
    "        P = new_symbols.pop(0)\n",
    "        \n",
    "        \n",
    "        #Making a copy of the model\n",
    "        true_model = model.copy()\n",
    "        \n",
    "        #Setting the value of P to true\n",
    "        true_model[P] = True\n",
    "        \n",
    "        #Calling the function recursively with the newly assigned literal\n",
    "        res1 = DPLL(KB=new_KB, symbols=new_symbols, model=true_model, heuristic_level=heuristic_level, chosen_symbols=chosen_symbols)\n",
    "        \n",
    "        #If this returns true, that means we have found a solution at a level and we want to pass this to\n",
    "        #lower levels of the recursion. Therefore, we return the same output\n",
    "        if res1[0] == True:\n",
    "            chosen_symbols.insert(0, P)\n",
    "            return res1[0], res1[1], chosen_symbols\n",
    "\n",
    "        chosen_symbols = res1[2]\n",
    "        \n",
    "        #Using another copy for the false model\n",
    "        false_model = model.copy()\n",
    "        \n",
    "        #Setting the value of P to false\n",
    "        false_model[P] = False\n",
    "        \n",
    "        #Calling the function recursively with the newly assigned literal\n",
    "        res2 = DPLL(KB=new_KB, symbols=new_symbols, model=false_model, heuristic_level=heuristic_level, chosen_symbols=chosen_symbols)\n",
    "        \n",
    "        #If this returns true, that means we have found a solution at a level and we want to pass this to\n",
    "        #lower levels of the recursion. Therefore, we return the same output\n",
    "        if res2[0] == True:\n",
    "            chosen_symbols.insert(0, P)\n",
    "            return res2[0], res2[1], chosen_symbols\n",
    "     \n",
    "    #If the code reaches here, it means there are no solutions.\n",
    "    return (False, model, chosen_symbols)\n",
    "    \n",
    "    \n",
    "    \n",
    "    "
   ]
  },
  {
   "cell_type": "markdown",
   "metadata": {
    "collapsed": false
   },
   "source": [
    "## Degree Heuristic\n",
    "\n",
    "- I did my own implementation of the degree heuristic below. My output of the visited states doesn't match with the ones provided in the test case below, but I still wanted to add my code here since I think this was a worthy try. My code does what I intuitively think it should do. I thought about this for a while. Even though I'm not entirely clear, I feel like my code is exploring an asymmetrical binary tree, whereas the output from the code below looks like it explores the same nodes previously explored when a parent was true. I'm also not sure if this is the root cause of the problem or if mine also works or maybe potentially it works better. So I decided to include it here and leave the reast to your judgment.\n",
    "\n",
    "- The reasoning my degree heuristic uses is that, whenever the DPLL algorithm is called it simplifies the clauses that would have a truth value of 1 with the given model. Then counts the occurences of literals in the KB, and sorts the symbols list based on this count."
   ]
  },
  {
   "cell_type": "code",
   "execution_count": 3,
   "metadata": {
    "collapsed": false
   },
   "outputs": [
   ],
   "source": [
    "#Degree heuristic function\n",
    "\n",
    "def degree_heuristic(KB, symbol_list):\n",
    "    '''\n",
    "    Takes is a KB, a list of symbols and a list of symbols chosen so far\n",
    "    Outputs a sorted symbol list based on the number of occurances\n",
    "    '''\n",
    "    \n",
    "    #creating an empty dictionary for counting\n",
    "    a = {}\n",
    "    \n",
    "    #Initializing counts for every unassigned symbol\n",
    "    for sym in symbol_list:\n",
    "        a[sym] = 0\n",
    "        \n",
    "    #Looping over each clause in the KB\n",
    "    for clause in KB:\n",
    "        #Looping over every literal within clauses\n",
    "        for literal in clause:\n",
    "            #if the literal is in a\n",
    "            if literal in a:\n",
    "                #we increase its count\n",
    "                a[literal] += 1\n",
    "    \n",
    "    #We create a sorted list using these counts\n",
    "    new_symbol_list = sorted(symbol_list, key=a.get, reverse=True)\n",
    "    \n",
    "    #Returns the new symbol list\n",
    "    return new_symbol_list"
   ]
  },
  {
   "cell_type": "code",
   "execution_count": 4,
   "metadata": {
    "collapsed": false
   },
   "outputs": [
    {
     "data": {
      "text/plain": [
       "[B, E, A, C, F, D]"
      ]
     },
     "execution_count": 4,
     "metadata": {
     },
     "output_type": "execute_result"
    }
   ],
   "source": [
    "#Testing the degree heuristic function to see if it returns with the correct order\n",
    "A = Literal('A')\n",
    "B = Literal('B')\n",
    "C = Literal('C')\n",
    "D = Literal('D')\n",
    "E = Literal('E')\n",
    "F = Literal('F')\n",
    "\n",
    "#Symbol List for testing\n",
    "al= [A, B, C, D, E, F]\n",
    "\n",
    "#Using the KB from below\n",
    "KB = [{-A, B, E}, {-B, A}, {-E, A}, {-E, D}, {-C, -F, -B}, {-E, B}, {-B, F} ,{-B, C}]\n",
    "\n",
    "degree_heuristic(KB, al)"
   ]
  },
  {
   "cell_type": "markdown",
   "metadata": {
    "collapsed": false
   },
   "source": [
    "This is what it returns when it is run on the example from Q3"
   ]
  },
  {
   "cell_type": "code",
   "execution_count": 5,
   "metadata": {
    "collapsed": false
   },
   "outputs": [
    {
     "data": {
      "text/plain": [
       "(True, {B: False, E: False, A: False}, [B, E, A])"
      ]
     },
     "execution_count": 5,
     "metadata": {
     },
     "output_type": "execute_result"
    }
   ],
   "source": [
    "#Testing on the example test case from Q3\n",
    "\n",
    "A = Literal('A')\n",
    "B = Literal('B')\n",
    "C = Literal('C')\n",
    "D = Literal('D')\n",
    "E = Literal('E')\n",
    "F = Literal('F')\n",
    "\n",
    "KB = [{-A, B, E}, {-B, A}, {-E, A}, {-E, D}, {-C, -F, -B}, {-E, B}, {-B, F} ,{-B, C}]\n",
    "\n",
    "DPLL_Satisfiable(KB,1)"
   ]
  },
  {
   "cell_type": "markdown",
   "metadata": {
    "collapsed": false,
    "deletable": false,
    "editable": false,
    "nbgrader": {
     "cell_type": "markdown",
     "checksum": "1a373b0f237fb333214a04ced058f50f",
     "grade": false,
     "grade_id": "cell-8c6248549aeaca88",
     "locked": true,
     "schema_version": 3,
     "solution": false,
     "task": false
    }
   },
   "source": [
    "<h1>Question 3</h1>\n",
    "\n",
    "Implement your KB from Russell & Norvig in CNF by filling in the sets inside the list <code>KB</code> below.  Ensure that your KB is in a list of set format as stated in the assignment instructions."
   ]
  },
  {
   "cell_type": "code",
   "execution_count": 6,
   "metadata": {
    "collapsed": false,
    "deletable": false,
    "nbgrader": {
     "cell_type": "code",
     "checksum": "a545c5a7e460e8a160a96549fba09556",
     "grade": false,
     "grade_id": "cell-2600ca4ae2649468",
     "locked": false,
     "schema_version": 3,
     "solution": true,
     "task": false
    }
   },
   "outputs": [
   ],
   "source": [
    "# Define some literals\n",
    "A = Literal('A')\n",
    "B = Literal('B')\n",
    "C = Literal('C')\n",
    "D = Literal('D')\n",
    "E = Literal('E')\n",
    "F = Literal('F')\n",
    "\n",
    "# YOUR CODE HERE\n",
    "#I used biconditional elimination and material implication to get the clauses be disjunctions. There was a conjunction of\n",
    "#Two disjuctions. I added it to the KB as two disjunctions.\n",
    "\n",
    "KB = [{-A, B, E}, {-B, A}, {-E, A}, {-E, D}, {-C, -F, -B}, {-E, B}, {-B, F} ,{-B, C}]"
   ]
  },
  {
   "cell_type": "markdown",
   "metadata": {
    "collapsed": false,
    "deletable": false,
    "editable": false,
    "nbgrader": {
     "cell_type": "markdown",
     "checksum": "197d7a486e328210a1d13c24747b3111",
     "grade": false,
     "grade_id": "cell-3e6849da5a8eba9a",
     "locked": true,
     "schema_version": 3,
     "solution": false,
     "task": false
    }
   },
   "source": [
    "<h1>Extensions</h1>\n",
    "\n",
    "1. Implement the degree heuristic for choosing symbols.  If <code>heuristic_level=1</code>, then the degree heuristic should be used to select which symbol to assign.\n",
    "2. Implement the pure symbol and unit clause heuristics.  If <code>heuristic_level=2</code>, then these heuristics should be used to find select first a pure symbol, and if one is not found, then a unit clause.  If neither pure symbols nor unit clauses are found, then the degree heuristic should be used to select a symbol.  If there are multiple pure symbols or unit clauses found, then use alphabetical order to select amongst them.\n",
    "3. Modify the pure symbol heuristic to choose the pure symbol that occurs in the most number of clauses.  This should be activated if <code>heuristic_level=3</code>."
   ]
  },
  {
   "cell_type": "markdown",
   "metadata": {
    "collapsed": false,
    "deletable": false,
    "editable": false,
    "nbgrader": {
     "cell_type": "markdown",
     "checksum": "755ed998a518249d48e3e3518ec2ed63",
     "grade": false,
     "grade_id": "cell-f24016ad18be5ed3",
     "locked": true,
     "schema_version": 3,
     "solution": false,
     "task": false
    }
   },
   "source": [
    "<h1>Basic Functionality Tests</h1>\n",
    "\n",
    "All of the tests in this section must be passed for the code to be considered fully functional.  Other unseen test cases will be used after submission to further verify functionality"
   ]
  },
  {
   "cell_type": "code",
   "execution_count": 7,
   "metadata": {
    "collapsed": false,
    "deletable": false,
    "editable": false,
    "nbgrader": {
     "cell_type": "code",
     "checksum": "ea88980a283406b7789cd4f485dc3172",
     "grade": true,
     "grade_id": "cell-6af1cbc180046559",
     "locked": true,
     "points": 1,
     "schema_version": 3,
     "solution": false,
     "task": false
    }
   },
   "outputs": [
   ],
   "source": [
    "# This section will test the correct definition of the literal class\n",
    "\n",
    "\n",
    "# Test the name attribute works correctly\n",
    "assert(A.name == 'A')\n",
    "\n",
    "# Test that negation works correctly\n",
    "assert(not (-C).sign)"
   ]
  },
  {
   "cell_type": "code",
   "execution_count": 8,
   "metadata": {
    "collapsed": false,
    "deletable": false,
    "editable": false,
    "nbgrader": {
     "cell_type": "code",
     "checksum": "9264e8da332b50a0adf2a1de4ec4a591",
     "grade": true,
     "grade_id": "cell-76b5f4949b4918a0",
     "locked": true,
     "points": 2,
     "schema_version": 3,
     "solution": false,
     "task": false
    }
   },
   "outputs": [
   ],
   "source": [
    "# This section will test that the KB has been correctly converted to CNF by performing \n",
    "# tests over all possible models\n",
    "import itertools\n",
    "symbols = {A,B,C,D,E,F}\n",
    "symbol_list = [A,B,C,D,E,F]\n",
    "\n",
    "def evaluate_russell_norvig_KB(model):\n",
    "    # Manually evaluate the KB using the model\n",
    "    s = list()\n",
    "    s.append(model[A] == (model[B] or model[E]))\n",
    "    s.append(model[E] <= model[D])\n",
    "    s.append((model[C] and model[F]) <= (not model[B]))\n",
    "    s.append(model[E] <= model[B])\n",
    "    s.append(model[B] <= model[F])\n",
    "    s.append(model[B] <= model[C])\n",
    "    return all(s)\n",
    "\n",
    "def evaluate_KB(KB, model):\n",
    "    model_true = True\n",
    "    model_name_dict = {l.name: model[l] for l in model}\n",
    "    for clause in KB:\n",
    "        evaluation = {l.sign == model_name_dict[l.name] for l in clause if l.name in model_name_dict}\n",
    "        model_true = model_true and any(evaluation)\n",
    "    return model_true\n",
    "\n",
    "all_models = list(itertools.product([False, True], repeat=6))\n",
    "for i in range(0, len(all_models)):\n",
    "    # Test all truth values\n",
    "    test_model = {symbol_list[j]: all_models[i][j] for j in range(0,6)}\n",
    "    \n",
    "    # Test the model\n",
    "    assert(evaluate_russell_norvig_KB(test_model) == evaluate_KB(KB, test_model))"
   ]
  },
  {
   "cell_type": "code",
   "execution_count": 9,
   "metadata": {
    "collapsed": false,
    "deletable": false,
    "editable": false,
    "nbgrader": {
     "cell_type": "code",
     "checksum": "bd40af18e4e25d64cb61ca9425b25eeb",
     "grade": true,
     "grade_id": "cell-5007c88f303571cb",
     "locked": true,
     "points": 4,
     "schema_version": 3,
     "solution": false,
     "task": false
    }
   },
   "outputs": [
   ],
   "source": [
    "# This section will test the basic working of DPLL\n",
    "# Satisfiable model\n",
    "test_KB = [{A, C},{-A, C}, {B, -C}]\n",
    "t, model, symbol_trace = DPLL_Satisfiable(test_KB)\n",
    "assert(evaluate_KB(test_KB, model))\n",
    "assert(t)\n",
    "\n",
    "# Unsatisfiable model\n",
    "test_KB = [{A, C},{-A, C}, {-C}]\n",
    "t, model, symbol_trace = DPLL_Satisfiable(test_KB)\n",
    "assert(not t)"
   ]
  },
  {
   "cell_type": "code",
   "execution_count": 10,
   "metadata": {
    "collapsed": false,
    "deletable": false,
    "editable": false,
    "nbgrader": {
     "cell_type": "code",
     "checksum": "5d93f38084e3ef0a6cf8b286f3e12054",
     "grade": true,
     "grade_id": "cell-63ce3735a6a8d49e",
     "locked": true,
     "points": 8,
     "schema_version": 3,
     "solution": false,
     "task": false
    }
   },
   "outputs": [
    {
     "name": "stdout",
     "output_type": "stream",
     "text": [
      "{A: False, B: False, C: True, D: True, E: False}\n"
     ]
    }
   ],
   "source": [
    "# This will test DPLL on the KB from Russell & Norvig\n",
    "t, model, symbol_trace = DPLL_Satisfiable(KB,0)\n",
    "print(model)\n",
    "\n",
    "# This model is satisfiable.  Test that it is so\n",
    "assert(t)\n",
    "\n",
    "# Check that the model found actually works\n",
    "assert(evaluate_KB(KB, model)) "
   ]
  },
  {
   "cell_type": "markdown",
   "metadata": {
    "collapsed": false,
    "deletable": false,
    "editable": false,
    "nbgrader": {
     "cell_type": "markdown",
     "checksum": "f01239be43d1b96af4269b659140441a",
     "grade": false,
     "grade_id": "cell-d4a09c27c6cafd14",
     "locked": true,
     "schema_version": 3,
     "solution": false,
     "task": false
    }
   },
   "source": [
    "<h1>Extension Tests</h1>\n",
    "\n",
    "This section will test that the degree heuristic, pure symbol and unit clause heuristics are correctly implemented.  Note that in your code, the <code>heuristic_level</code> needs to correctly activate the heuristic being tested, and the <code>symbol_list</code> needs to be correctly generated "
   ]
  },
  {
   "cell_type": "code",
   "execution_count": 11,
   "metadata": {
    "collapsed": false,
    "deletable": false,
    "editable": false,
    "nbgrader": {
     "cell_type": "code",
     "checksum": "c22796e4310c481858d9941480d3abc2",
     "grade": true,
     "grade_id": "cell-782f68d63b7be51f",
     "locked": true,
     "points": 16,
     "schema_version": 3,
     "solution": false,
     "task": false
    },
    "scrolled": true
   },
   "outputs": [
    {
     "name": "stdout",
     "output_type": "stream",
     "text": [
      "{B: False, E: False, A: False}\n"
     ]
    },
    {
     "ename": "AssertionError",
     "evalue": "",
     "output_type": "error",
     "traceback": [
      "\u001b[0;31m---------------------------------------------------------------------------\u001b[0m",
      "\u001b[0;31mAssertionError\u001b[0m                            Traceback (most recent call last)",
      "\u001b[0;32m<ipython-input-11-ec504883c02f>\u001b[0m in \u001b[0;36m<module>\u001b[0;34m\u001b[0m\n\u001b[1;32m     10\u001b[0m \u001b[0;34m\u001b[0m\u001b[0m\n\u001b[1;32m     11\u001b[0m \u001b[0;31m# Test the symbol trace to ensure that the correct order is chosen\u001b[0m\u001b[0;34m\u001b[0m\u001b[0;34m\u001b[0m\u001b[0;34m\u001b[0m\u001b[0m\n\u001b[0;32m---> 12\u001b[0;31m \u001b[0;32massert\u001b[0m\u001b[0;34m(\u001b[0m\u001b[0;34m[\u001b[0m\u001b[0ml\u001b[0m\u001b[0;34m.\u001b[0m\u001b[0mname\u001b[0m \u001b[0;32mfor\u001b[0m \u001b[0ml\u001b[0m \u001b[0;32min\u001b[0m \u001b[0msymbol_trace\u001b[0m\u001b[0;34m]\u001b[0m \u001b[0;32min\u001b[0m \u001b[0;34m[\u001b[0m\u001b[0;34m[\u001b[0m\u001b[0;34m'B'\u001b[0m\u001b[0;34m,\u001b[0m\u001b[0;34m'F'\u001b[0m\u001b[0;34m,\u001b[0m \u001b[0;34m'E'\u001b[0m\u001b[0;34m,\u001b[0m \u001b[0;34m'C'\u001b[0m\u001b[0;34m,\u001b[0m \u001b[0;34m'C'\u001b[0m\u001b[0;34m,\u001b[0m \u001b[0;34m'E'\u001b[0m\u001b[0;34m,\u001b[0m \u001b[0;34m'A'\u001b[0m\u001b[0;34m]\u001b[0m\u001b[0;34m,\u001b[0m \u001b[0;34m[\u001b[0m\u001b[0;34m'B'\u001b[0m\u001b[0;34m,\u001b[0m \u001b[0;34m'A'\u001b[0m\u001b[0;34m,\u001b[0m \u001b[0;34m'C'\u001b[0m\u001b[0;34m,\u001b[0m \u001b[0;34m'F'\u001b[0m\u001b[0;34m,\u001b[0m \u001b[0;34m'E'\u001b[0m\u001b[0;34m,\u001b[0m \u001b[0;34m'A'\u001b[0m\u001b[0;34m]\u001b[0m\u001b[0;34m]\u001b[0m\u001b[0;34m)\u001b[0m\u001b[0;34m\u001b[0m\u001b[0;34m\u001b[0m\u001b[0m\n\u001b[0m\u001b[1;32m     13\u001b[0m \u001b[0;34m\u001b[0m\u001b[0m\n\u001b[1;32m     14\u001b[0m \u001b[0msymbol_trace\u001b[0m\u001b[0;34m\u001b[0m\u001b[0;34m\u001b[0m\u001b[0m\n",
      "\u001b[0;31mAssertionError\u001b[0m: "
     ]
    }
   ],
   "source": [
    "# Degree Heuristic Test for KB from Russell & Norvig\n",
    "t, model, symbol_trace = DPLL_Satisfiable(KB,1)\n",
    "print(model)\n",
    "\n",
    "# This model is satisfiable.  Test that it is so\n",
    "assert(t)\n",
    "\n",
    "# Check that the model found actually works\n",
    "assert(evaluate_KB(KB, model))  \n",
    "\n",
    "# Test the symbol trace to ensure that the correct order is chosen\n",
    "assert([l.name for l in symbol_trace] in [['B','F', 'E', 'C', 'C', 'E', 'A'], ['B', 'A', 'C', 'F', 'E', 'A']])\n",
    "\n",
    "symbol_trace"
   ]
  },
  {
   "cell_type": "code",
   "execution_count": 12,
   "metadata": {
    "collapsed": false,
    "deletable": false,
    "editable": false,
    "nbgrader": {
     "cell_type": "code",
     "checksum": "0257a3a8ed46849441e37da29fdce593",
     "grade": true,
     "grade_id": "cell-1849b5bca210fac7",
     "locked": true,
     "points": 32,
     "schema_version": 3,
     "solution": false,
     "task": false
    }
   },
   "outputs": [
    {
     "name": "stdout",
     "output_type": "stream",
     "text": [
      "{A: False, B: False, C: True, D: True, E: False}\n"
     ]
    },
    {
     "ename": "AssertionError",
     "evalue": "",
     "output_type": "error",
     "traceback": [
      "\u001b[0;31m---------------------------------------------------------------------------\u001b[0m",
      "\u001b[0;31mAssertionError\u001b[0m                            Traceback (most recent call last)",
      "\u001b[0;32m<ipython-input-12-177c39fecd80>\u001b[0m in \u001b[0;36m<module>\u001b[0;34m\u001b[0m\n\u001b[1;32m     11\u001b[0m \u001b[0;34m\u001b[0m\u001b[0m\n\u001b[1;32m     12\u001b[0m \u001b[0;31m# Test the symbol trace to ensure that the correct order is chosen\u001b[0m\u001b[0;34m\u001b[0m\u001b[0;34m\u001b[0m\u001b[0;34m\u001b[0m\u001b[0m\n\u001b[0;32m---> 13\u001b[0;31m \u001b[0;32massert\u001b[0m\u001b[0;34m(\u001b[0m\u001b[0;34m[\u001b[0m\u001b[0ml\u001b[0m\u001b[0;34m.\u001b[0m\u001b[0mname\u001b[0m \u001b[0;32mfor\u001b[0m \u001b[0ml\u001b[0m \u001b[0;32min\u001b[0m \u001b[0msymbol_trace\u001b[0m\u001b[0;34m]\u001b[0m \u001b[0;34m==\u001b[0m \u001b[0;34m[\u001b[0m\u001b[0;34m'D'\u001b[0m\u001b[0;34m,\u001b[0m \u001b[0;34m'B'\u001b[0m\u001b[0;34m,\u001b[0m \u001b[0;34m'E'\u001b[0m\u001b[0;34m,\u001b[0m \u001b[0;34m'A'\u001b[0m\u001b[0;34m,\u001b[0m \u001b[0;34m'C'\u001b[0m\u001b[0;34m,\u001b[0m \u001b[0;34m'F'\u001b[0m\u001b[0;34m,\u001b[0m \u001b[0;34m'E'\u001b[0m\u001b[0;34m,\u001b[0m \u001b[0;34m'A'\u001b[0m\u001b[0;34m]\u001b[0m\u001b[0;34m)\u001b[0m\u001b[0;34m\u001b[0m\u001b[0;34m\u001b[0m\u001b[0m\n\u001b[0m",
      "\u001b[0;31mAssertionError\u001b[0m: "
     ]
    }
   ],
   "source": [
    "# Pure Symbol & Unit Clause Heuristic Test for KB from Russell & Norvig\n",
    "t, model, symbol_trace = DPLL_Satisfiable(KB,2)\n",
    "print(model)\n",
    "\n",
    "\n",
    "# This model is satisfiable.  Test that it is so\n",
    "assert(t)\n",
    "\n",
    "# Check that the model found actually works\n",
    "assert(evaluate_KB(KB, model))\n",
    "\n",
    "# Test the symbol trace to ensure that the correct order is chosen\n",
    "assert([l.name for l in symbol_trace] == ['D', 'B', 'E', 'A', 'C', 'F', 'E', 'A'])"
   ]
  },
  {
   "cell_type": "code",
   "execution_count": 13,
   "metadata": {
    "collapsed": false,
    "deletable": false,
    "editable": false,
    "nbgrader": {
     "cell_type": "code",
     "checksum": "01a5632a5bf35a1a3a9c8202f7c79b53",
     "grade": true,
     "grade_id": "cell-b9ce4afcdb630096",
     "locked": true,
     "points": 64,
     "schema_version": 3,
     "solution": false,
     "task": false
    }
   },
   "outputs": [
    {
     "name": "stdout",
     "output_type": "stream",
     "text": [
      "{A: False, B: False, C: True, D: True, E: False}\n",
      "[A, B, C, D, E]\n"
     ]
    },
    {
     "ename": "AssertionError",
     "evalue": "",
     "output_type": "error",
     "traceback": [
      "\u001b[0;31m---------------------------------------------------------------------------\u001b[0m",
      "\u001b[0;31mAssertionError\u001b[0m                            Traceback (most recent call last)",
      "\u001b[0;32m<ipython-input-13-0831ae54e880>\u001b[0m in \u001b[0;36m<module>\u001b[0;34m\u001b[0m\n\u001b[1;32m     11\u001b[0m \u001b[0;34m\u001b[0m\u001b[0m\n\u001b[1;32m     12\u001b[0m \u001b[0;31m# Test the symbol trace to ensure that the correct order is chosen\u001b[0m\u001b[0;34m\u001b[0m\u001b[0;34m\u001b[0m\u001b[0;34m\u001b[0m\u001b[0m\n\u001b[0;32m---> 13\u001b[0;31m \u001b[0;32massert\u001b[0m\u001b[0;34m(\u001b[0m\u001b[0;34m[\u001b[0m\u001b[0ml\u001b[0m\u001b[0;34m.\u001b[0m\u001b[0mname\u001b[0m \u001b[0;32mfor\u001b[0m \u001b[0ml\u001b[0m \u001b[0;32min\u001b[0m \u001b[0msymbol_trace\u001b[0m\u001b[0;34m]\u001b[0m \u001b[0;34m==\u001b[0m \u001b[0;34m[\u001b[0m\u001b[0;34m'D'\u001b[0m\u001b[0;34m,\u001b[0m \u001b[0;34m'B'\u001b[0m\u001b[0;34m,\u001b[0m \u001b[0;34m'A'\u001b[0m\u001b[0;34m,\u001b[0m \u001b[0;34m'C'\u001b[0m\u001b[0;34m,\u001b[0m \u001b[0;34m'F'\u001b[0m\u001b[0;34m,\u001b[0m \u001b[0;34m'E'\u001b[0m\u001b[0;34m,\u001b[0m \u001b[0;34m'A'\u001b[0m\u001b[0;34m]\u001b[0m\u001b[0;34m)\u001b[0m\u001b[0;34m\u001b[0m\u001b[0;34m\u001b[0m\u001b[0m\n\u001b[0m",
      "\u001b[0;31mAssertionError\u001b[0m: "
     ]
    }
   ],
   "source": [
    "# Pure Symbol & Unit Clause Heuristic Test, choosing the most-frequently used pure symbol, for KB from Russell & Norvig\n",
    "t, model, symbol_trace = DPLL_Satisfiable(KB,3)\n",
    "print(model)\n",
    "print(symbol_trace)\n",
    "\n",
    "# This model is satisfiable.  Test that it is so\n",
    "assert(t)\n",
    "\n",
    "# Check that the model found actually works\n",
    "assert(evaluate_KB(KB, model))\n",
    "\n",
    "# Test the symbol trace to ensure that the correct order is chosen\n",
    "assert([l.name for l in symbol_trace] == ['D', 'B', 'A', 'C', 'F', 'E', 'A'])"
   ]
  }
 ],
 "metadata": {
  "kernelspec": {
   "display_name": "Python 3 (system-wide)",
   "language": "python",
   "metadata": {
    "cocalc": {
     "description": "Python 3 programming language",
     "priority": 100,
     "url": "https://www.python.org/"
    }
   },
   "name": "python3"
  },
  "language_info": {
   "codemirror_mode": {
    "name": "ipython",
    "version": 3
   },
   "file_extension": ".py",
   "mimetype": "text/x-python",
   "name": "python",
   "nbconvert_exporter": "python",
   "pygments_lexer": "ipython3",
   "version": "3.6.9"
  }
 },
 "nbformat": 4,
 "nbformat_minor": 4
}